{
 "cells": [
  {
   "cell_type": "markdown",
   "metadata": {},
   "source": [
    "# Simple epicenter estimation"
   ]
  },
  {
   "cell_type": "markdown",
   "metadata": {},
   "source": [
    "## Brief description"
   ]
  },
  {
   "cell_type": "markdown",
   "metadata": {},
   "source": [
    "This notebook intends to perform the estimation of the source parameters of an earthquake, more specifically the horizontal coordinates of an epicenter. "
   ]
  },
  {
   "cell_type": "markdown",
   "metadata": {},
   "source": [
    "An earthquake generates waves that propagate throughout the earth. These waves can be detected by a set of seismic stations positioned on the Earth's surface. All stations measure the difference of arrival times of $V_p$ and $V_s$ waves as their primary data."
   ]
  },
  {
   "cell_type": "markdown",
   "metadata": {},
   "source": [
    "For this reason, we can group the arrival times from all stations into a vector, called **Observed data vector**. Considering $N$ stations,"
   ]
  },
  {
   "cell_type": "markdown",
   "metadata": {},
   "source": [
    "$$ \\mathbf{d}^o = \\begin{bmatrix} \\Delta t_1 \\\\ \\Delta t_2 \\\\ \\vdots \\\\ \\Delta t_N \\end{bmatrix}$$"
   ]
  },
  {
   "cell_type": "markdown",
   "metadata": {},
   "source": [
    "where $ \\Delta t_i $ is the difference of arrival time of $V_p$ and $V_s$ at i-th station, $ i = 1,2,\\dots, N$."
   ]
  },
  {
   "cell_type": "markdown",
   "metadata": {},
   "source": [
    "## Parametrization and Foward problem"
   ]
  },
  {
   "cell_type": "markdown",
   "metadata": {},
   "source": [
    "First of all, we have to consider some assumptions that i) the ray paths is represented by a straight line, ii) the crust is homogeneous and isotropic and iii) assuming the approximation of a flat Earth surface."
   ]
  },
  {
   "cell_type": "markdown",
   "metadata": {},
   "source": [
    "Considering the arrival time as a function of :"
   ]
  },
  {
   "cell_type": "markdown",
   "metadata": {},
   "source": [
    "* $V_p$ and $V_s$ (Wave velocities);"
   ]
  },
  {
   "cell_type": "markdown",
   "metadata": {},
   "source": [
    "* $x_i$ and $y_i$ (Cartesian coordinates of i-th station);"
   ]
  },
  {
   "cell_type": "markdown",
   "metadata": {},
   "source": [
    "* $x_0$ and $y_0$ (Epicenter Cartesian coordinates)."
   ]
  },
  {
   "cell_type": "markdown",
   "metadata": {},
   "source": [
    "For this reason, the time arrival at the i-th station can be written as "
   ]
  },
  {
   "cell_type": "markdown",
   "metadata": {},
   "source": [
    "$$ \\Delta t_i (\\mathbf{p}) = \\alpha [(x_i - x_0)^2 + (y_i - y_0)^2]^{1/2}\\,$$"
   ]
  },
  {
   "cell_type": "markdown",
   "metadata": {},
   "source": [
    "where,"
   ]
  },
  {
   "cell_type": "markdown",
   "metadata": {},
   "source": [
    "$$\\mathbf{p} = \\begin{bmatrix} x_0 \\\\ y_0 \\end{bmatrix}$$"
   ]
  },
  {
   "cell_type": "markdown",
   "metadata": {},
   "source": [
    "that is the **parameter vector** and"
   ]
  },
  {
   "cell_type": "markdown",
   "metadata": {},
   "source": [
    "$$ \\alpha = \\dfrac{1}{V_s} - \\dfrac{1}{V_p} .$$"
   ]
  },
  {
   "cell_type": "markdown",
   "metadata": {},
   "source": [
    "From of all equations above, we can write the ** predicted vector ** as"
   ]
  },
  {
   "cell_type": "markdown",
   "metadata": {},
   "source": [
    "$$\\mathbf{\\Delta t} (\\mathbf{p}) = \\begin{bmatrix} \\Delta t_1 (\\mathbf{p}) \\\\ \\Delta t_2 (\\mathbf{p})\\\\ \\vdots \\\\ \\Delta t_N (\\mathbf{p}) \\end{bmatrix}.$$"
   ]
  },
  {
   "cell_type": "markdown",
   "metadata": {},
   "source": [
    "## Importing Libraries"
   ]
  },
  {
   "cell_type": "code",
   "execution_count": 1,
   "metadata": {},
   "outputs": [],
   "source": [
    "%matplotlib inline\n",
    "import sys\n",
    "import numpy as np\n",
    "import matplotlib.pyplot as plt"
   ]
  },
  {
   "cell_type": "markdown",
   "metadata": {},
   "source": [
    "## Importing auxiliary functions"
   ]
  },
  {
   "cell_type": "code",
   "execution_count": 2,
   "metadata": {},
   "outputs": [],
   "source": [
    "#dir_modules = '/home/andre/Desktop/Inversion-Different-Scales/'\n",
    "dir_modules = '../../'\n",
    "sys.path.append(dir_modules)"
   ]
  },
  {
   "cell_type": "code",
   "execution_count": 3,
   "metadata": {},
   "outputs": [
    {
     "ename": "ModuleNotFoundError",
     "evalue": "No module named 'eql_functions'",
     "output_type": "error",
     "traceback": [
      "\u001b[0;31m---------------------------------------------------------------------------\u001b[0m",
      "\u001b[0;31mModuleNotFoundError\u001b[0m                       Traceback (most recent call last)",
      "\u001b[0;32m<ipython-input-3-40cbea6579f1>\u001b[0m in \u001b[0;36m<module>\u001b[0;34m\u001b[0m\n\u001b[0;32m----> 1\u001b[0;31m \u001b[0;32mimport\u001b[0m \u001b[0meql_functions\u001b[0m \u001b[0;32mas\u001b[0m \u001b[0mfunc\u001b[0m\u001b[0;34m\u001b[0m\u001b[0;34m\u001b[0m\u001b[0m\n\u001b[0m",
      "\u001b[0;31mModuleNotFoundError\u001b[0m: No module named 'eql_functions'"
     ]
    }
   ],
   "source": [
    "import eql_functions as func"
   ]
  },
  {
   "cell_type": "markdown",
   "metadata": {},
   "source": [
    "## Model parameters"
   ]
  },
  {
   "cell_type": "code",
   "execution_count": null,
   "metadata": {},
   "outputs": [],
   "source": [
    "M = [12,13,15,16,17,18]"
   ]
  },
  {
   "cell_type": "code",
   "execution_count": null,
   "metadata": {},
   "outputs": [],
   "source": [
    "P = [0,1]"
   ]
  },
  {
   "cell_type": "code",
   "execution_count": null,
   "metadata": {},
   "outputs": [],
   "source": [
    "G = np.empty((len(M),2))"
   ]
  },
  {
   "cell_type": "markdown",
   "metadata": {},
   "source": [
    "### Observation area"
   ]
  },
  {
   "cell_type": "code",
   "execution_count": null,
   "metadata": {},
   "outputs": [],
   "source": [
    "x_min = -40.\n",
    "x_max = 40."
   ]
  },
  {
   "cell_type": "code",
   "execution_count": null,
   "metadata": {},
   "outputs": [],
   "source": [
    "y_min = -50.\n",
    "y_max = 50."
   ]
  },
  {
   "cell_type": "markdown",
   "metadata": {},
   "source": [
    "### True value for the epicenter"
   ]
  },
  {
   "cell_type": "code",
   "execution_count": null,
   "metadata": {},
   "outputs": [],
   "source": [
    "epicenter = [-4.,-20.]"
   ]
  },
  {
   "cell_type": "code",
   "execution_count": null,
   "metadata": {},
   "outputs": [],
   "source": [
    "p_real = np.array(epicenter)"
   ]
  },
  {
   "cell_type": "markdown",
   "metadata": {},
   "source": [
    "### Station locations"
   ]
  },
  {
   "cell_type": "code",
   "execution_count": null,
   "metadata": {},
   "outputs": [],
   "source": [
    "x = np.array([30.,30.,-10.,-30.])\n",
    "y = np.array([-40.,35.,20.,-40.])"
   ]
  },
  {
   "cell_type": "markdown",
   "metadata": {},
   "source": [
    "### Seismic velocities"
   ]
  },
  {
   "cell_type": "code",
   "execution_count": null,
   "metadata": {},
   "outputs": [],
   "source": [
    "vp = 6.   # in km/s\n",
    "vs = 3.4  # in km/s"
   ]
  },
  {
   "cell_type": "markdown",
   "metadata": {},
   "source": [
    "## Observed data "
   ]
  },
  {
   "cell_type": "code",
   "execution_count": null,
   "metadata": {},
   "outputs": [],
   "source": [
    "dt = func.time_arrival(x,y,p_real,vp,vs)"
   ]
  },
  {
   "cell_type": "markdown",
   "metadata": {},
   "source": [
    "### Generating noise"
   ]
  },
  {
   "cell_type": "code",
   "execution_count": null,
   "metadata": {},
   "outputs": [],
   "source": [
    "np.random.seed(seed=40)\n",
    "\n",
    "std_noise = 0.15\n",
    "\n",
    "\n",
    "noise = np.random.normal(0.0, std_noise, dt.size)\n",
    "\n",
    "print '%.3f s' % std_noise"
   ]
  },
  {
   "cell_type": "code",
   "execution_count": null,
   "metadata": {},
   "outputs": [],
   "source": [
    "dt_obs = dt + noise"
   ]
  },
  {
   "cell_type": "markdown",
   "metadata": {},
   "source": [
    "### Calculating the Goal function"
   ]
  },
  {
   "cell_type": "code",
   "execution_count": null,
   "metadata": {},
   "outputs": [],
   "source": [
    "Nx = 20\n",
    "x_range = np.linspace(x_min,x_max,num=Nx)"
   ]
  },
  {
   "cell_type": "code",
   "execution_count": null,
   "metadata": {},
   "outputs": [],
   "source": [
    "Ny = 20\n",
    "y_range = np.linspace(y_min,y_max,num=Ny)"
   ]
  },
  {
   "cell_type": "code",
   "execution_count": null,
   "metadata": {},
   "outputs": [],
   "source": [
    "x_range,y_range = np.meshgrid(x_range,y_range)"
   ]
  },
  {
   "cell_type": "code",
   "execution_count": null,
   "metadata": {},
   "outputs": [],
   "source": [
    "shape_phi = (Nx,Ny)"
   ]
  },
  {
   "cell_type": "code",
   "execution_count": null,
   "metadata": {},
   "outputs": [],
   "source": [
    "goal = []\n",
    "for xi,yi in zip (x_range.ravel(),y_range.ravel()):\n",
    "    p = np.array([xi,yi])\n",
    "    dt_it = func.time_arrival(x,y,p,vp,vs)\n",
    "    res = dt_obs - dt_it \n",
    "    goal.append(np.linalg.norm(res))"
   ]
  },
  {
   "cell_type": "markdown",
   "metadata": {},
   "source": [
    "## Inversion "
   ]
  },
  {
   "cell_type": "markdown",
   "metadata": {},
   "source": [
    "### Initial parameters for the inversion"
   ]
  },
  {
   "cell_type": "code",
   "execution_count": null,
   "metadata": {},
   "outputs": [],
   "source": [
    "itmax = 100\n",
    "mu0 = 10.\n",
    "p0 = np.array([10.,40.])"
   ]
  },
  {
   "cell_type": "markdown",
   "metadata": {},
   "source": [
    "### Applying Levenberg-Marquardt Method "
   ]
  },
  {
   "cell_type": "code",
   "execution_count": null,
   "metadata": {},
   "outputs": [],
   "source": [
    "p_est,px,py,phi,it = func.gauss_newton_TA(dt_obs,x,y,p0,vp,vs,itmax,mu0)"
   ]
  },
  {
   "cell_type": "code",
   "execution_count": null,
   "metadata": {},
   "outputs": [],
   "source": [
    "print p_est"
   ]
  },
  {
   "cell_type": "markdown",
   "metadata": {},
   "source": [
    "## Generating the map of the epicenter, seismic stations and goal function"
   ]
  },
  {
   "cell_type": "code",
   "execution_count": null,
   "metadata": {},
   "outputs": [],
   "source": [
    "title_font = 22\n",
    "bottom_font = 16\n",
    "saturation_factor = 1.\n",
    "plt.close('all')\n",
    "plt.figure(figsize=(15,8))\n",
    "\n",
    "plt.subplot(1,2,1)\n",
    "plt.title('Epicenter Position', fontsize=20)\n",
    "plt.plot(p_real[0],p_real[1], 'y*',markersize=20, label='epicenter (real)')\n",
    "plt.plot(x,y,'k^',markersize=20, label='Stations')\n",
    "\n",
    "plt.xlabel('x (km)', fontsize = title_font)\n",
    "plt.ylabel('y (km)', fontsize = title_font)\n",
    "plt.xlim(x_min,x_max)\n",
    "plt.ylim(y_min,y_max)\n",
    "plt.legend(loc='best', numpoints=1)\n",
    "\n",
    "plt.subplot(1,2,2)\n",
    "plt.contourf(x_range, y_range, np.array(goal).reshape(shape_phi), 50)\n",
    "cbar = plt.colorbar()\n",
    "cbar.set_label('seconds', fontsize=16)\n",
    "plt.plot(p_real[0],p_real[1], 'y*',markersize=20, label='epicenter (real)')\n",
    "plt.plot(x,y,'k^',markersize=20, label='Stations')\n",
    "plt.title('Goal Function', fontsize=20)\n",
    "\n",
    "plt.xlabel('x (km)', fontsize = title_font)\n",
    "plt.ylabel('y (km)', fontsize = title_font)\n",
    "plt.xlim(x_min,x_max)\n",
    "plt.ylim(y_min,y_max)\n",
    "plt.legend(loc='best', numpoints=1)\n",
    "\n",
    "plt.show()\n"
   ]
  },
  {
   "cell_type": "markdown",
   "metadata": {},
   "source": [
    "## Visualization of estimative"
   ]
  },
  {
   "cell_type": "code",
   "execution_count": null,
   "metadata": {},
   "outputs": [],
   "source": [
    "title_font = 22\n",
    "bottom_font = 16\n",
    "saturation_factor = 1.\n",
    "plt.close('all')\n",
    "plt.figure(figsize=(10,8))\n",
    "\n",
    "plt.plot(p_real[0],p_real[1], 'y*',markersize=20, label='epicenter (real)')\n",
    "plt.plot(p_est[0],p_est[1], 'b*',markersize=20, label='epicenter (estimate)')\n",
    "plt.plot(px,py, 'ro-',markersize=8, label='estimates (iteration)')\n",
    "plt.plot(x,y,'k^',markersize=20, label='Stations')\n",
    "\n",
    "plt.xlabel('x (km)', fontsize = title_font)\n",
    "plt.ylabel('y (km)', fontsize = title_font)\n",
    "plt.xlim(x_min,x_max)\n",
    "plt.ylim(y_min,y_max)\n",
    "plt.title('Epicenter location', fontsize=20)\n",
    "plt.legend(loc='best', numpoints=1)\n",
    "plt.show()\n"
   ]
  },
  {
   "cell_type": "markdown",
   "metadata": {},
   "source": [
    "## Visualization of the convergence"
   ]
  },
  {
   "cell_type": "code",
   "execution_count": null,
   "metadata": {},
   "outputs": [],
   "source": [
    "plt.figure(figsize=(10,8))\n",
    "\n",
    "plt.plot(it, phi, 'o-')\n",
    "plt.title('Convergence',fontsize=20)\n",
    "plt.ylabel('phi ',fontsize=15)\n",
    "plt.xlabel('Iteration',fontsize=15)\n",
    "\n",
    "plt.show()"
   ]
  }
 ],
 "metadata": {
  "kernelspec": {
   "display_name": "Python 3",
   "language": "python",
   "name": "python3"
  },
  "language_info": {
   "codemirror_mode": {
    "name": "ipython",
    "version": 3
   },
   "file_extension": ".py",
   "mimetype": "text/x-python",
   "name": "python",
   "nbconvert_exporter": "python",
   "pygments_lexer": "ipython3",
   "version": "3.7.6"
  }
 },
 "nbformat": 4,
 "nbformat_minor": 1
}
