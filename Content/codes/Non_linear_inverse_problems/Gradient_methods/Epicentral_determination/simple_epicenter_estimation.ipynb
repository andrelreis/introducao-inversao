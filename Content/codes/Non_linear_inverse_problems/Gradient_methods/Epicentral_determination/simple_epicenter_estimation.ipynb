{
 "cells": [
  {
   "cell_type": "markdown",
   "metadata": {},
   "source": [
    "# Simple epicenter estimation"
   ]
  },
  {
   "cell_type": "markdown",
   "metadata": {},
   "source": [
    "## Brief description"
   ]
  },
  {
   "cell_type": "markdown",
   "metadata": {},
   "source": [
    "This notebook intends to perform the estimation of the source parameters of an earthquake, more specifically the horizontal coordinates of an epicenter. "
   ]
  },
  {
   "cell_type": "markdown",
   "metadata": {},
   "source": [
    "An earthquake generates waves that propagate throughout the earth. These waves can be detected by a set of seismic stations positioned on the Earth's surface. All stations measure the difference of arrival times of $V_p$ and $V_s$ waves as their primary data."
   ]
  },
  {
   "cell_type": "markdown",
   "metadata": {},
   "source": [
    "For this reason, we can group the arrival times from all stations into a vector, called **Observed data vector**. Considering $N$ stations,"
   ]
  },
  {
   "cell_type": "markdown",
   "metadata": {},
   "source": [
    "$$ \\mathbf{d}^o = \\begin{bmatrix} \\Delta t_1 \\\\ \\Delta t_2 \\\\ \\vdots \\\\ \\Delta t_N \\end{bmatrix}$$"
   ]
  },
  {
   "cell_type": "markdown",
   "metadata": {},
   "source": [
    "where $ \\Delta t_i $ is the difference of arrival time of $V_p$ and $V_s$ at i-th station, $ i = 1,2,\\dots, N$."
   ]
  },
  {
   "cell_type": "markdown",
   "metadata": {},
   "source": [
    "## Parametrization and Foward problem"
   ]
  },
  {
   "cell_type": "markdown",
   "metadata": {},
   "source": [
    "First of all, we have to consider some assumptions that i) the ray paths is represented by a straight line, ii) the crust is homogeneous and isotropic and iii) assuming the approximation of a flat Earth surface."
   ]
  },
  {
   "cell_type": "markdown",
   "metadata": {},
   "source": [
    "Considering the arrival time as a function of :"
   ]
  },
  {
   "cell_type": "markdown",
   "metadata": {},
   "source": [
    "* $V_p$ and $V_s$ (Wave velocities);"
   ]
  },
  {
   "cell_type": "markdown",
   "metadata": {},
   "source": [
    "* $x_i$ and $y_i$ (Cartesian coordinates of i-th station);"
   ]
  },
  {
   "cell_type": "markdown",
   "metadata": {},
   "source": [
    "* $x_0$ and $y_0$ (Epicenter Cartesian coordinates)."
   ]
  },
  {
   "cell_type": "markdown",
   "metadata": {},
   "source": [
    "For this reason, the time arrival at the i-th station can be written as "
   ]
  },
  {
   "cell_type": "markdown",
   "metadata": {},
   "source": [
    "$$ \\Delta t_i (\\mathbf{p}) = \\alpha [(x_i - x_0)^2 + (y_i - y_0)^2]^{1/2}\\,$$"
   ]
  },
  {
   "cell_type": "markdown",
   "metadata": {},
   "source": [
    "where,"
   ]
  },
  {
   "cell_type": "markdown",
   "metadata": {},
   "source": [
    "$$\\mathbf{p} = \\begin{bmatrix} x_0 \\\\ y_0 \\end{bmatrix}$$"
   ]
  },
  {
   "cell_type": "markdown",
   "metadata": {},
   "source": [
    "that is the **parameter vector** and"
   ]
  },
  {
   "cell_type": "markdown",
   "metadata": {},
   "source": [
    "$$ \\alpha = \\dfrac{1}{V_s} - \\dfrac{1}{V_p} .$$"
   ]
  },
  {
   "cell_type": "markdown",
   "metadata": {},
   "source": [
    "From of all equations above, we can write the ** predicted vector ** as"
   ]
  },
  {
   "cell_type": "markdown",
   "metadata": {},
   "source": [
    "$$\\mathbf{\\Delta t} (\\mathbf{p}) = \\begin{bmatrix} \\Delta t_1 (\\mathbf{p}) \\\\ \\Delta t_2 (\\mathbf{p})\\\\ \\vdots \\\\ \\Delta t_N (\\mathbf{p}) \\end{bmatrix}.$$"
   ]
  },
  {
   "cell_type": "markdown",
   "metadata": {},
   "source": [
    "## Importing Libraries"
   ]
  },
  {
   "cell_type": "code",
   "execution_count": 1,
   "metadata": {},
   "outputs": [],
   "source": [
    "import numpy as np\n",
    "import matplotlib.pyplot as plt"
   ]
  },
  {
   "cell_type": "markdown",
   "metadata": {},
   "source": [
    "## Importing auxiliary functions"
   ]
  },
  {
   "cell_type": "code",
   "execution_count": 2,
   "metadata": {},
   "outputs": [],
   "source": [
    "import functions as func"
   ]
  },
  {
   "cell_type": "markdown",
   "metadata": {},
   "source": [
    "### Observation area"
   ]
  },
  {
   "cell_type": "code",
   "execution_count": 3,
   "metadata": {},
   "outputs": [],
   "source": [
    "x_min = -40.\n",
    "x_max = 40."
   ]
  },
  {
   "cell_type": "code",
   "execution_count": 4,
   "metadata": {},
   "outputs": [],
   "source": [
    "y_min = -50.\n",
    "y_max = 50."
   ]
  },
  {
   "cell_type": "markdown",
   "metadata": {},
   "source": [
    "### True value for the epicenter"
   ]
  },
  {
   "cell_type": "code",
   "execution_count": 5,
   "metadata": {},
   "outputs": [],
   "source": [
    "x0 = -4.\n",
    "y0 = -20."
   ]
  },
  {
   "cell_type": "code",
   "execution_count": 6,
   "metadata": {},
   "outputs": [],
   "source": [
    "epicenter = [x0,y0]"
   ]
  },
  {
   "cell_type": "code",
   "execution_count": 7,
   "metadata": {},
   "outputs": [],
   "source": [
    "p_real = np.array(epicenter)"
   ]
  },
  {
   "cell_type": "markdown",
   "metadata": {},
   "source": [
    "### Station locations"
   ]
  },
  {
   "cell_type": "code",
   "execution_count": 8,
   "metadata": {},
   "outputs": [],
   "source": [
    "x = np.array([30.,30.,-10.,-30.])\n",
    "y = np.array([-40.,35.,20.,-40.])"
   ]
  },
  {
   "cell_type": "markdown",
   "metadata": {},
   "source": [
    "### Seismic velocities"
   ]
  },
  {
   "cell_type": "code",
   "execution_count": 9,
   "metadata": {},
   "outputs": [],
   "source": [
    "vp = 6.   # in km/s\n",
    "vs = 3.4  # in km/s"
   ]
  },
  {
   "cell_type": "markdown",
   "metadata": {},
   "source": [
    "## Observed data "
   ]
  },
  {
   "cell_type": "code",
   "execution_count": 10,
   "metadata": {},
   "outputs": [],
   "source": [
    "dt = func.time_arrival(x,y,p_real[0],p_real[1],vp,vs)"
   ]
  },
  {
   "cell_type": "markdown",
   "metadata": {},
   "source": [
    "### Generating noise"
   ]
  },
  {
   "cell_type": "code",
   "execution_count": 11,
   "metadata": {},
   "outputs": [
    {
     "name": "stdout",
     "output_type": "stream",
     "text": [
      "0.090 s\n"
     ]
    }
   ],
   "source": [
    "np.random.seed(seed=40)\n",
    "\n",
    "std_noise = 0.09\n",
    "\n",
    "\n",
    "noise = np.random.normal(0.0, std_noise, dt.size)\n",
    "\n",
    "print ('%.3f s' % std_noise)"
   ]
  },
  {
   "cell_type": "code",
   "execution_count": 12,
   "metadata": {},
   "outputs": [],
   "source": [
    "dt_obs = dt + noise"
   ]
  },
  {
   "cell_type": "markdown",
   "metadata": {},
   "source": [
    "### Calculating the Goal function"
   ]
  },
  {
   "cell_type": "code",
   "execution_count": 13,
   "metadata": {},
   "outputs": [],
   "source": [
    "Nx = 20\n",
    "x_range = np.linspace(x_min,x_max,num=Nx)"
   ]
  },
  {
   "cell_type": "code",
   "execution_count": 14,
   "metadata": {},
   "outputs": [],
   "source": [
    "Ny = 20\n",
    "y_range = np.linspace(y_min,y_max,num=Ny)"
   ]
  },
  {
   "cell_type": "code",
   "execution_count": 15,
   "metadata": {},
   "outputs": [],
   "source": [
    "x_range,y_range = np.meshgrid(x_range,y_range)"
   ]
  },
  {
   "cell_type": "code",
   "execution_count": 16,
   "metadata": {},
   "outputs": [],
   "source": [
    "shape_phi = (Nx,Ny)"
   ]
  },
  {
   "cell_type": "code",
   "execution_count": 17,
   "metadata": {},
   "outputs": [],
   "source": [
    "goal = []\n",
    "for xi,yi in zip (x_range.ravel(),y_range.ravel()):\n",
    "    p = np.array([xi,yi])\n",
    "    dt_it = func.time_arrival(x,y,p[0],p[1],vp,vs)\n",
    "    res = dt_obs - dt_it \n",
    "    goal.append(np.linalg.norm(res))"
   ]
  },
  {
   "cell_type": "markdown",
   "metadata": {},
   "source": [
    "## Inversion "
   ]
  },
  {
   "cell_type": "markdown",
   "metadata": {},
   "source": [
    "### Initial parameters for the inversion"
   ]
  },
  {
   "cell_type": "code",
   "execution_count": 18,
   "metadata": {},
   "outputs": [],
   "source": [
    "itmax = 15\n",
    "mu = 10.\n",
    "p0 = np.array([10.,40.])"
   ]
  },
  {
   "cell_type": "markdown",
   "metadata": {},
   "source": [
    "### Applying Levenberg-Marquardt Method "
   ]
  },
  {
   "cell_type": "code",
   "execution_count": 19,
   "metadata": {},
   "outputs": [],
   "source": [
    "p_est,px,py,phi,it = func.solver(dt_obs,x,y,p0[0],p0[1],vp,vs,itmax,mu)"
   ]
  },
  {
   "cell_type": "code",
   "execution_count": 20,
   "metadata": {},
   "outputs": [
    {
     "name": "stdout",
     "output_type": "stream",
     "text": [
      "[-0.01215289 -0.08378524]\n"
     ]
    }
   ],
   "source": [
    "print (p_est)"
   ]
  },
  {
   "cell_type": "code",
   "execution_count": 21,
   "metadata": {},
   "outputs": [
    {
     "name": "stdout",
     "output_type": "stream",
     "text": [
      "[ -4. -20.]\n"
     ]
    }
   ],
   "source": [
    "print (p_real)"
   ]
  },
  {
   "cell_type": "markdown",
   "metadata": {},
   "source": [
    "## Generating the map of the epicenter, seismic stations and goal function"
   ]
  },
  {
   "cell_type": "code",
   "execution_count": 22,
   "metadata": {},
   "outputs": [
    {
     "data": {
      "image/png": "[encoded data removed]",
      "text/plain": [
       "<Figure size 1080x576 with 3 Axes>"
      ]
     },
     "metadata": {
      "needs_background": "light"
     },
     "output_type": "display_data"
    }
   ],
   "source": [
    "title_font = 22\n",
    "bottom_font = 16\n",
    "plt.figure(figsize=(15,8))\n",
    "\n",
    "plt.subplot(1,2,1)\n",
    "plt.title('Epicenter Position', fontsize=15)\n",
    "plt.plot(p_real[0],p_real[1], 'y*',markersize=15, label='epicenter (real)')\n",
    "plt.plot(x,y,'k^',markersize=12, label='Stations') \n",
    "plt.xlabel('x (km)', fontsize = title_font)\n",
    "plt.ylabel('y (km)', fontsize = title_font)\n",
    "plt.xlim(x_min,x_max)\n",
    "plt.ylim(y_min,y_max)\n",
    "plt.legend(loc='best', numpoints=1)\n",
    "\n",
    "plt.subplot(1,2,2)\n",
    "plt.contourf(x_range, y_range, np.array(goal).reshape(shape_phi), 50,cmap='inferno')\n",
    "cbar = plt.colorbar()\n",
    "cbar.set_label('seconds', fontsize=16)\n",
    "plt.plot(p_real[0],p_real[1], 'y*',markersize=15, label='epicenter (real)')\n",
    "plt.plot(x,y,'k^',markersize=12, label='Stations')\n",
    "plt.title('Goal Function', fontsize=20)\n",
    "plt.xlabel('x (km)', fontsize = title_font)\n",
    "plt.ylabel('y (km)', fontsize = title_font)\n",
    "plt.xlim(x_min,x_max)\n",
    "plt.ylim(y_min,y_max)\n",
    "plt.legend(loc='best', numpoints=1)\n",
    "\n",
    "plt.show()\n"
   ]
  },
  {
   "cell_type": "markdown",
   "metadata": {},
   "source": [
    "## Visualization of estimates"
   ]
  },
  {
   "cell_type": "code",
   "execution_count": 23,
   "metadata": {},
   "outputs": [
    {
     "data": {
      "image/png": "[encoded data removed]",
      "text/plain": [
       "<Figure size 720x576 with 1 Axes>"
      ]
     },
     "metadata": {
      "needs_background": "light"
     },
     "output_type": "display_data"
    }
   ],
   "source": [
    "title_font = 22\n",
    "bottom_font = 16\n",
    "plt.figure(figsize=(10,8))\n",
    "plt.plot(p_real[0],p_real[1], 'y*',markersize=15, label='epicenter (real)')\n",
    "plt.plot(p_est[0],p_est[1], 'b*',markersize=15, label='epicenter (estimate)')\n",
    "plt.plot(px,py, 'ro-',markersize=8, label='estimates (iteration)')\n",
    "plt.plot(x,y,'k^',markersize=12, label='Stations')\n",
    "plt.xlabel('x (km)', fontsize = title_font)\n",
    "plt.ylabel('y (km)', fontsize = title_font)\n",
    "plt.xlim(x_min,x_max)\n",
    "plt.ylim(y_min,y_max)\n",
    "plt.title('Epicenter location', fontsize=20)\n",
    "plt.legend(loc='best', numpoints=1)\n",
    "plt.show()\n"
   ]
  },
  {
   "cell_type": "markdown",
   "metadata": {},
   "source": [
    "## Visualization of the convergence"
   ]
  },
  {
   "cell_type": "code",
   "execution_count": 24,
   "metadata": {},
   "outputs": [
    {
     "data": {
      "image/png": "[encoded data removed]",
      "text/plain": [
       "<Figure size 720x576 with 1 Axes>"
      ]
     },
     "metadata": {
      "needs_background": "light"
     },
     "output_type": "display_data"
    }
   ],
   "source": [
    "plt.figure(figsize=(10,8))\n",
    "plt.plot(it, phi, '-')\n",
    "plt.title('Convergence',fontsize=20)\n",
    "plt.ylabel('phi ',fontsize=15)\n",
    "plt.xlabel('Iteration',fontsize=15)\n",
    "plt.show()"
   ]
  }
 ],
 "metadata": {
  "kernelspec": {
   "display_name": "Python 3",
   "language": "python",
   "name": "python3"
  },
  "language_info": {
   "codemirror_mode": {
    "name": "ipython",
    "version": 3
   },
   "file_extension": ".py",
   "mimetype": "text/x-python",
   "name": "python",
   "nbconvert_exporter": "python",
   "pygments_lexer": "ipython3",
   "version": "3.7.6"
  }
 },
 "nbformat": 4,
 "nbformat_minor": 1
}
